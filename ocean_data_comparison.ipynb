{
 "cells": [
  {
   "cell_type": "code",
   "execution_count": 1,
   "id": "f543dedc-079b-4230-99b8-03af07826e9d",
   "metadata": {},
   "outputs": [],
   "source": [
    "# Ocean Data Testing and Comparison\n",
    "# This notebook compares wave data from NDBC buoys via our ocean_data package against Surfline data\n",
    "\n",
    "import pandas as pd\n",
    "import numpy as np\n",
    "import matplotlib.pyplot as plt\n",
    "import seaborn as sns\n",
    "import plotly.express as px\n",
    "import plotly.graph_objects as go\n",
    "from plotly.subplots import make_subplots\n",
    "import requests\n",
    "from datetime import datetime, timedelta\n",
    "import pytz\n",
    "import json\n",
    "import os\n",
    "from bs4 import BeautifulSoup\n",
    "import re\n",
    "\n",
    "# Import our ocean_data package\n",
    "from ocean_data import swell, meteorology, tide, location"
   ]
  },
  {
   "cell_type": "code",
   "execution_count": 2,
   "id": "101f6017-8a9f-44f8-8b2a-1e22096b94f6",
   "metadata": {},
   "outputs": [
    {
     "name": "stdout",
     "output_type": "stream",
     "text": [
      "Testing 4 locations with 13 timestamps per location\n",
      "Date range: 2025-05-11 16:38 to 2025-05-14 16:38\n"
     ]
    }
   ],
   "source": [
    "# Define testing parameters\n",
    "# These will be used throughout the notebook\n",
    "\n",
    "# Test locations\n",
    "test_locations = [\"lido\", \"manasquan\", \"belmar\", \"rockaways\"]\n",
    "\n",
    "# Date range to test\n",
    "eastern = pytz.timezone('America/New_York')\n",
    "end_date = datetime.now(eastern)\n",
    "start_date = end_date - timedelta(days=3)  # Get data for the last 3 days\n",
    "\n",
    "# Generate test timestamps (every 6 hours)\n",
    "test_timestamps = []\n",
    "current = start_date\n",
    "while current <= end_date:\n",
    "    test_timestamps.append(current)\n",
    "    current = current + timedelta(hours=6)\n",
    "\n",
    "print(f\"Testing {len(test_locations)} locations with {len(test_timestamps)} timestamps per location\")\n",
    "print(f\"Date range: {start_date.strftime('%Y-%m-%d %H:%M')} to {end_date.strftime('%Y-%m-%d %H:%M')}\")"
   ]
  },
  {
   "cell_type": "code",
   "execution_count": 3,
   "id": "cba79384-0bed-4dc9-ad1d-0da7af7b06fe",
   "metadata": {},
   "outputs": [
    {
     "name": "stdout",
     "output_type": "stream",
     "text": [
      "Testing our data retrieval functions for lido at 2025-05-14 16:38\n",
      "Swell buoy ID for lido: 44065\n",
      "Successfully retrieved swell data with 5 components\n",
      "Primary swell: {'height': 5.16, 'period': 6.25, 'direction': 156.0}\n"
     ]
    }
   ],
   "source": [
    "# Functions to get data from our ocean_data package\n",
    "\n",
    "def get_slapp_swell_data(location_name, timestamp):\n",
    "    \"\"\"Get swell data from our ocean_data package for a specific location and time\"\"\"\n",
    "    try:\n",
    "        # Get buoy mapping for location\n",
    "        buoy_info = location.get_buoys_for_location(location_name)\n",
    "        if not buoy_info:\n",
    "            return None\n",
    "        \n",
    "        # Fetch swell data\n",
    "        return swell.fetch_swell_data(buoy_info[\"swell\"], timestamp)\n",
    "    except Exception as e:\n",
    "        print(f\"Error fetching swell data: {str(e)}\")\n",
    "        return None\n",
    "\n",
    "def get_slapp_met_data(location_name, timestamp):\n",
    "    \"\"\"Get meteorological data from our ocean_data package for a specific location and time\"\"\"\n",
    "    try:\n",
    "        # Get buoy mapping for location\n",
    "        buoy_info = location.get_buoys_for_location(location_name)\n",
    "        if not buoy_info:\n",
    "            return None\n",
    "        \n",
    "        # Fetch meteorological data\n",
    "        return meteorology.fetch_meteorological_data(buoy_info[\"met\"], timestamp)\n",
    "    except Exception as e:\n",
    "        print(f\"Error fetching met data: {str(e)}\")\n",
    "        return None\n",
    "\n",
    "def get_slapp_tide_data(location_name, timestamp):\n",
    "    \"\"\"Get tide data from our ocean_data package for a specific location and time\"\"\"\n",
    "    try:\n",
    "        # Get buoy mapping for location\n",
    "        buoy_info = location.get_buoys_for_location(location_name)\n",
    "        if not buoy_info:\n",
    "            return None\n",
    "        \n",
    "        # Fetch tide data\n",
    "        return tide.fetch_water_level(buoy_info[\"tide\"], timestamp)\n",
    "    except Exception as e:\n",
    "        print(f\"Error fetching tide data: {str(e)}\")\n",
    "        return None\n",
    "\n",
    "def get_buoy_id_for_location(location_name, data_type=\"swell\"):\n",
    "    \"\"\"Get the buoy/station ID for a location and data type\"\"\"\n",
    "    buoy_info = location.get_buoys_for_location(location_name)\n",
    "    if not buoy_info:\n",
    "        return None\n",
    "    return buoy_info.get(data_type)\n",
    "\n",
    "# Quick test of our functions\n",
    "test_loc = \"lido\"\n",
    "test_time = eastern.localize(datetime.now())\n",
    "print(f\"Testing our data retrieval functions for {test_loc} at {test_time.strftime('%Y-%m-%d %H:%M')}\")\n",
    "\n",
    "buoy_id = get_buoy_id_for_location(test_loc, \"swell\")\n",
    "print(f\"Swell buoy ID for {test_loc}: {buoy_id}\")\n",
    "\n",
    "swell_data = get_slapp_swell_data(test_loc, test_time)\n",
    "if swell_data:\n",
    "    print(f\"Successfully retrieved swell data with {len(swell_data[0]['swell_components'])} components\")\n",
    "    # Print the first swell component\n",
    "    print(f\"Primary swell: {swell_data[0]['swell_components']['swell_1']}\")\n",
    "else:\n",
    "    print(\"Failed to retrieve swell data\")"
   ]
  },
  {
   "cell_type": "code",
   "execution_count": null,
   "id": "9e1394cf-f870-4b61-a9f4-5c0e431fc95f",
   "metadata": {},
   "outputs": [],
   "source": []
  }
 ],
 "metadata": {
  "kernelspec": {
   "display_name": "Python 3 (ipykernel)",
   "language": "python",
   "name": "python3"
  },
  "language_info": {
   "codemirror_mode": {
    "name": "ipython",
    "version": 3
   },
   "file_extension": ".py",
   "mimetype": "text/x-python",
   "name": "python",
   "nbconvert_exporter": "python",
   "pygments_lexer": "ipython3",
   "version": "3.13.1"
  }
 },
 "nbformat": 4,
 "nbformat_minor": 5
}
